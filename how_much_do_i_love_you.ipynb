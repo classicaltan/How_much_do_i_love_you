{
 "cells": [
  {
   "cell_type": "markdown",
   "id": "507fe93b",
   "metadata": {},
   "source": [
    "#How Much Do I Love You?\n",
    "\n",
    "##About\n",
    "\n",
    "My friend, let's call her Cassandra, have known each other since secondary school. We are now navigating the joys of adulthood together. We have a warm friendship based on mutual trust, and similar interests including fiber arts and academia. I find Cassandra fascinating, because I think that her brain is the perfect mix of the analytical and creative. We are both in happy, settled relationships. Recently, Cassandra has been helping me with my professional development. \n",
    "\n",
    "Enter Whatsapp messaging. We have had a chat on Whatsapp since March 2017. I have decided to carry out an analysis of our chats over the years to answer some social questions.\n",
    "\n",
    ">1. What time of day, week, and, year do me and Cassandra chat the most?\n",
    ">2. What is our most frequent topic?\n",
    ">3. How can Whatsapp messaging support our friendship in the future?"
   ]
  },
  {
   "cell_type": "markdown",
   "id": "58d6f93e",
   "metadata": {},
   "source": [
    "##Data Gathering\n",
    "\n",
    "The first few stages of this process I have chosen to describe, rather than show, to preserve anonymity. Although Cassandra has given me her permission to use her data, I have taken this step to protect Casandra's right to be annonymous on the internet and more importantly, to keep potentially sensitive data safe. This is how I gathered the data:\n",
    "\n",
    ">1. I exported our conversation as a .txt file to my google drive.\n",
    ">2. I then imported it into excel. This part was a little tricky, because my data has a lot of 'creative' punctuation, and cannot be seperated by coloumns automatically (e.g. ?:: are all used within message data, as well as to denote date and time). I have chosen to do this manually.\n",
    ">3. I then replaced names and addresses with excel's 'find and replace' function. Why the name Casandra? Because in the Greek myths, Cassandra is a prophetess who is not believed. Therefore, she finds herself without a voice. A little bit like the role our Cassandra will have in this dataset; voiced, and yet voiceless. Other names and addresses have also been changed to preserve anonymity.\n",
    ">4. Then I used the excel function TRIM to seperate the columns into date, time, and message.\n",
    ">5. I had to think carefully about how to utillise empty fields. You see, whatsapp has a function where you can 'reference' an earlier message by swiping it, and replying to that particular message. In my dataset, this shows up as an empty field.\n",
    ">6. I saved the workbook as a .csv file."
   ]
  },
  {
   "cell_type": "code",
   "execution_count": null,
   "id": "a01d8203",
   "metadata": {},
   "outputs": [],
   "source": []
  },
  {
   "cell_type": "code",
   "execution_count": null,
   "id": "0d21a885",
   "metadata": {},
   "outputs": [],
   "source": []
  }
 ],
 "metadata": {
  "kernelspec": {
   "display_name": "Python 3 (ipykernel)",
   "language": "python",
   "name": "python3"
  },
  "language_info": {
   "codemirror_mode": {
    "name": "ipython",
    "version": 3
   },
   "file_extension": ".py",
   "mimetype": "text/x-python",
   "name": "python",
   "nbconvert_exporter": "python",
   "pygments_lexer": "ipython3",
   "version": "3.11.5"
  }
 },
 "nbformat": 4,
 "nbformat_minor": 5
}
